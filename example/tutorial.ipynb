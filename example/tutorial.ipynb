{
 "cells": [
  {
   "cell_type": "markdown",
   "id": "f2c6c165",
   "metadata": {},
   "source": [
    "## Example on how to use the GMS compilation algorithm\n",
    "\n",
    "Here we show how to use the compilation algorithm(s) developed in https://arxiv.org/abs/2507.20694.\n",
    "The example circuit we are going to use is the `adder_n28` circuit from [QASMBench](https://github.com/pnnl/QASMBench).\n",
    "\n",
    "We begin by cleaning up the circuit, possibly removing the assembly instructions for barriers and measurements."
   ]
  },
  {
   "cell_type": "code",
   "execution_count": 1,
   "id": "8bf03fe1",
   "metadata": {},
   "outputs": [],
   "source": [
    "# All necessary imports\n",
    "import sys  \n",
    "sys.path.append('..')\n",
    "from benchmark_utils import remove_meas_and_barriers, calculate_circuit_runtime, load_circuit, save_recompiled\n",
    "from synthesis_algorithms import extract_peephole_ILP, extract_peephole_only\n",
    "import qiskit.qasm2\n",
    "from qiskit import transpile"
   ]
  },
  {
   "cell_type": "code",
   "execution_count": 2,
   "id": "0d7251df",
   "metadata": {},
   "outputs": [],
   "source": [
    "remove_meas_and_barriers('./circuits/')"
   ]
  },
  {
   "cell_type": "markdown",
   "id": "79da0853",
   "metadata": {},
   "source": [
    "Let's first see how many single-qubit and two-qubit gates the circuit has, and how long would it take to execute on a trapped-ion hardware in which single-qubit gates take $110\\mu s$ and two-qubit gates $672\\mu s$."
   ]
  },
  {
   "cell_type": "code",
   "execution_count": 3,
   "id": "17b6381a",
   "metadata": {},
   "outputs": [
    {
     "name": "stdout",
     "output_type": "stream",
     "text": [
      "Number of SQGs: 1471\n",
      "Number of Entangling gates: 195\n",
      "Execution time of quantum circuit: 220.9ms\n"
     ]
    }
   ],
   "source": [
    "t, sqgs, tqgs = calculate_circuit_runtime('./circuits/adder_n28_transpiled.qasm')\n",
    "print('Number of SQGs:', sqgs)\n",
    "print('Number of Entangling gates:', tqgs)\n",
    "print('Execution time of quantum circuit:', str(t) + 'ms')"
   ]
  },
  {
   "cell_type": "markdown",
   "id": "ed8dc715",
   "metadata": {},
   "source": [
    "To compile the circuits using the linear programming + peephole method, we call the function `extract_peephole_ILP`. To compile using only the peephole rewrites we call `extract_peephole_only`. These functions return a PyZX `Circuit` class instance that we can later write again as a QASM file.\n",
    "\n",
    "Note: there seems to be an issue with loading a local Gurobi installation through the Python-MIP package on jupyter notebooks, so in here we use a different solver (CBC) in the ILP part. If you have Gurobi installed in your machine, you can call these same functions within a python script instead to make use of Gurobi."
   ]
  },
  {
   "cell_type": "code",
   "execution_count": 4,
   "id": "eeb9a980",
   "metadata": {},
   "outputs": [],
   "source": [
    "%%capture\n",
    "# The extract functions receive a PyZX graph, so we first load and simplify using the usual PyZX full_reduce.\n",
    "_, g = load_circuit('./circuits/no_measurements', 'adder_n28_transpiled.qasm')\n",
    "# We solve with the ILP method\n",
    "compiled_ilp, _, _ = extract_peephole_ILP(g.copy())\n",
    "# Now we save the circuit using the gms as a QASM operation instead of RXX gates\n",
    "save_recompiled('./circuits', 'adder_n28_compiled_ilp.qasm', compiled_ilp)"
   ]
  },
  {
   "cell_type": "code",
   "execution_count": 5,
   "id": "98b984ca",
   "metadata": {},
   "outputs": [],
   "source": [
    "# We solve with the peephole only method \n",
    "_, g = load_circuit('./circuits/no_measurements', 'adder_n28_transpiled.qasm')\n",
    "compiled_peephole, _, _ = extract_peephole_only(g.copy())\n",
    "# Now we save the circuit using the gms as a QASM operation instead of RXX gates\n",
    "save_recompiled('./circuits', 'adder_n28_compiled_peephole.qasm', compiled_peephole)"
   ]
  },
  {
   "cell_type": "code",
   "execution_count": 6,
   "id": "f6fc5dcd",
   "metadata": {},
   "outputs": [],
   "source": [
    "# We also compile using Qiskit\n",
    "qc = qiskit.qasm2.load('./circuits/no_measurements/adder_n28_transpiled.qasm', custom_instructions=qiskit.qasm2.LEGACY_CUSTOM_INSTRUCTIONS)\n",
    "result_qc = transpile(qc, basis_gates=['rx','rz','rxx'], optimization_level=3)\n",
    "with open('./circuits/adder_n28_compiled_qiskit.qasm','w') as saved_circuit:\n",
    "    saved_circuit.write(qiskit.qasm2.dumps(result_qc))"
   ]
  },
  {
   "cell_type": "markdown",
   "id": "da660638",
   "metadata": {},
   "source": [
    "Now let's see the metrics for each of the compilation methods."
   ]
  },
  {
   "cell_type": "code",
   "execution_count": 7,
   "id": "01b6883c",
   "metadata": {},
   "outputs": [
    {
     "name": "stdout",
     "output_type": "stream",
     "text": [
      "Original -- SQGs: 1471 - Entangling: 195 - Circuit runtime: 220.9ms\n",
      "ILP      -- SQGs:  916 - Entangling:  77 - Circuit runtime: 79.0ms\n",
      "Peephole -- SQGs:  863 - Entangling:  91 - Circuit runtime: 90.9ms\n",
      "Qiskit   -- SQGs:  710 - Entangling: 195 - Circuit runtime: 176.6ms\n"
     ]
    }
   ],
   "source": [
    "t_ilp, sqgs_ilp, tqgs_ilp = calculate_circuit_runtime('./circuits/recompiled/adder_n28_compiled_ilp.qasm')\n",
    "t_peephole, sqgs_peephole, tqgs_peephole = calculate_circuit_runtime('./circuits/recompiled/adder_n28_compiled_peephole.qasm')\n",
    "t_qiskit, sqgs_qiskit, tqgs_qiskit = calculate_circuit_runtime('./circuits/adder_n28_compiled_qiskit.qasm')\n",
    "\n",
    "print('Original -- SQGs:', sqgs, '- Entangling:', tqgs, '- Circuit runtime:', str(t) + 'ms')\n",
    "print('ILP      -- SQGs: ', sqgs_ilp, '- Entangling: ', tqgs_ilp, '- Circuit runtime:', str(t_ilp) + 'ms')\n",
    "print('Peephole -- SQGs: ', sqgs_peephole, '- Entangling: ', tqgs_peephole, '- Circuit runtime:', str(t_peephole) + 'ms')\n",
    "print('Qiskit   -- SQGs: ', sqgs_qiskit, '- Entangling:', tqgs_qiskit, '- Circuit runtime:', str(t_qiskit) + 'ms')"
   ]
  },
  {
   "cell_type": "markdown",
   "id": "b1ab2db5",
   "metadata": {},
   "source": [
    "Interestingly, using Gurobi in the ILP case for this circuit returns a circuit with also 77 GMS gates, but a lower single-qubit gate count. To reproduce the results of the paper for the ILP case, using Gurobi is then required.\n",
    "\n",
    "If one wants to get a QASM circuit back with layers of RXX gates instead of the GMS custom instruction, simply write the output of `compiled_ilp.to_qasm()` or `compiled_peephole.to_qasm()` into a file.\n",
    "\n",
    "For any questions feel free to contact `a.d.villoria.gonzalez@liacs.leidenuniv.nl`"
   ]
  }
 ],
 "metadata": {
  "kernelspec": {
   "display_name": ".mip",
   "language": "python",
   "name": "python3"
  },
  "language_info": {
   "codemirror_mode": {
    "name": "ipython",
    "version": 3
   },
   "file_extension": ".py",
   "mimetype": "text/x-python",
   "name": "python",
   "nbconvert_exporter": "python",
   "pygments_lexer": "ipython3",
   "version": "3.10.16"
  }
 },
 "nbformat": 4,
 "nbformat_minor": 5
}
